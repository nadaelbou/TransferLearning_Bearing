{
 "cells": [
  {
   "cell_type": "code",
   "execution_count": 1,
   "metadata": {},
   "outputs": [],
   "source": [
    "%load_ext autoreload\n",
    "%autoreload 2"
   ]
  },
  {
   "cell_type": "code",
   "execution_count": 43,
   "metadata": {},
   "outputs": [],
   "source": [
    "from PIL import Image\n",
    "import os\n",
    "import torch\n",
    "from torch import nn\n",
    "import torch.nn.functional as F\n",
    "from torch import optim\n",
    "from torchvision import datasets, models, transforms\n",
    "import torchvision\n",
    "from torch.utils.data.sampler import SubsetRandomSampler\n",
    "import numpy as np\n",
    "import matplotlib.pyplot as plt\n",
    "%matplotlib inline\n",
    "import splitfolders\n",
    "from datetime import datetime\n",
    "import yaml\n",
    "from sklearn.metrics import classification_report, confusion_matrix\n",
    "\n",
    "from pipeline_torch_models import *"
   ]
  },
  {
   "cell_type": "code",
   "execution_count": 48,
   "metadata": {},
   "outputs": [],
   "source": [
    "config=yaml.load(open('config.yml', 'r'), Loader=yaml.FullLoader)\n",
    "seed = config['model_config']['initial_seed']\n",
    "torch.manual_seed(seed)\n",
    "np.random.seed(seed)"
   ]
  },
  {
   "cell_type": "markdown",
   "metadata": {},
   "source": [
    "### Load Data"
   ]
  },
  {
   "cell_type": "code",
   "execution_count": 4,
   "metadata": {},
   "outputs": [
    {
     "name": "stderr",
     "output_type": "stream",
     "text": [
      "Copying files: 1159 files [00:11, 102.35 files/s]\n",
      "Copying files: 464 files [00:04, 105.30 files/s]\n"
     ]
    }
   ],
   "source": [
    "# define training and test data directories\n",
    "data_dir  = r'C:\\Users\\FINAELB\\Documents\\Aalto\\Dayyan\\TL\\DL_input_data\\ScenarioAlpha\\Sensor1'\n",
    "train_valid_dir = os.path.join(data_dir) \n",
    "#test_dir  = os.path.join(data_dir, 'test')\n",
    "\n",
    "splitfolders.ratio(input=train_valid_dir, output='split_data', ratio=(0.6, 0.4))\n",
    "train_dir='split_data/train'\n",
    "valid_dir='split_data/val'\n",
    "\n",
    "splitfolders.ratio(input='split_data/val', output='Valid_Test', ratio=(0.5, 0.5))\n",
    "valid_dir='Valid_Test/train'\n",
    "test_dir='Valid_Test/val'\n",
    "\n",
    "# Selecting mean and std values according to ImageNet dataset\n",
    "mean = torch.tensor( [0.485, 0.456, 0.406])\n",
    "std = torch.tensor([0.229, 0.224, 0.225])"
   ]
  },
  {
   "cell_type": "code",
   "execution_count": 5,
   "metadata": {},
   "outputs": [],
   "source": [
    "# load and transform data using ImageFolder\n",
    "data_transforms = {\n",
    "    'train':  transforms.Compose([\n",
    "                                transforms.Resize([224,224]),\n",
    "                                transforms.ToTensor(),\n",
    "                                transforms.Normalize(mean,std)\n",
    "                                ]),\n",
    "    'validation':  transforms.Compose([\n",
    "                                transforms.Resize([224,224]),\n",
    "                                transforms.ToTensor(),\n",
    "                                transforms.Normalize(mean,std)\n",
    "                                ]),\n",
    "    'test':  transforms.Compose([\n",
    "                                transforms.Resize([224,224]),\n",
    "                                transforms.ToTensor(),\n",
    "                                transforms.Normalize(mean,std)\n",
    "                                ])\n",
    "}\n",
    "\n",
    "train_data = datasets.ImageFolder(train_dir, transform=data_transforms[\"train\"])\n",
    "valid_data = datasets.ImageFolder(valid_dir, transform=data_transforms[\"validation\"])\n",
    "test_data  = datasets.ImageFolder(test_dir, transform=data_transforms[\"test\"])"
   ]
  },
  {
   "cell_type": "markdown",
   "metadata": {},
   "source": [
    "### Load models and prepare for TL"
   ]
  },
  {
   "cell_type": "code",
   "execution_count": 9,
   "metadata": {},
   "outputs": [
    {
     "name": "stderr",
     "output_type": "stream",
     "text": [
      "c:\\Users\\FINAELB\\AppData\\Local\\Programs\\Python\\Python311\\Lib\\site-packages\\torchvision\\models\\_utils.py:208: UserWarning: The parameter 'pretrained' is deprecated since 0.13 and may be removed in the future, please use 'weights' instead.\n",
      "  warnings.warn(\n",
      "c:\\Users\\FINAELB\\AppData\\Local\\Programs\\Python\\Python311\\Lib\\site-packages\\torchvision\\models\\_utils.py:223: UserWarning: Arguments other than a weight enum or `None` for 'weights' are deprecated since 0.13 and may be removed in the future. The current behavior is equivalent to passing `weights=ResNet18_Weights.IMAGENET1K_V1`. You can also use `weights=ResNet18_Weights.DEFAULT` to get the most up-to-date weights.\n",
      "  warnings.warn(msg)\n"
     ]
    }
   ],
   "source": [
    "## MODEL 1: Resnet 18\n",
    "model_1 = models.resnet18(pretrained=True)\n",
    "layers=list(model_1._modules.keys())\n",
    "\n",
    "layers_frozen=layers[0:8]\n",
    "\n",
    "for layer in layers_frozen:\n",
    "    for param in model_1._modules[layer].parameters():\n",
    "        param.requires_grad=False\n",
    "        \n",
    "# modify last layer to match it our classes\n",
    "n_inputs = model_1.fc.in_features\n",
    "last_layer = nn.Linear(n_inputs, len(train_data.classes))\n",
    "model_1.fc = last_layer\n",
    "\n",
    "model_1 = models.resnet18(pretrained=True)\n",
    "layers=list(model_1._modules.keys())\n",
    "\n",
    "layers_frozen=layers[0:8]\n",
    "\n",
    "for layer in layers_frozen:\n",
    "    for param in model_1._modules[layer].parameters():\n",
    "        param.requires_grad=False\n",
    "        \n",
    "# modify last layer to match it our classes\n",
    "n_inputs = model_1.fc.in_features\n",
    "last_layer = nn.Linear(n_inputs, len(train_data.classes))\n",
    "model_1.fc = last_layer\n",
    "\n",
    "model_1 = model_1.to('cuda')"
   ]
  },
  {
   "cell_type": "code",
   "execution_count": 10,
   "metadata": {},
   "outputs": [
    {
     "name": "stderr",
     "output_type": "stream",
     "text": [
      "c:\\Users\\FINAELB\\AppData\\Local\\Programs\\Python\\Python311\\Lib\\site-packages\\torchvision\\models\\_utils.py:223: UserWarning: Arguments other than a weight enum or `None` for 'weights' are deprecated since 0.13 and may be removed in the future. The current behavior is equivalent to passing `weights=ResNet50_Weights.IMAGENET1K_V1`. You can also use `weights=ResNet50_Weights.DEFAULT` to get the most up-to-date weights.\n",
      "  warnings.warn(msg)\n"
     ]
    }
   ],
   "source": [
    "## MODEL 2: Resnet 50\n",
    "model_2 = models.resnet50(pretrained=True)\n",
    "layers=list(model_2._modules.keys())\n",
    "\n",
    "layers_frozen=layers[0:8]\n",
    "\n",
    "for layer in layers_frozen:\n",
    "    for param in model_2._modules[layer].parameters():\n",
    "        param.requires_grad=False\n",
    "        \n",
    "# modify last layer to match it our classes\n",
    "n_inputs = model_2.fc.in_features\n",
    "last_layer = nn.Linear(n_inputs, len(train_data.classes))\n",
    "model_2.fc = last_layer\n",
    "\n",
    "model_2 = model_2.to('cuda')"
   ]
  },
  {
   "cell_type": "code",
   "execution_count": 40,
   "metadata": {},
   "outputs": [
    {
     "name": "stderr",
     "output_type": "stream",
     "text": [
      "c:\\Users\\FINAELB\\AppData\\Local\\Programs\\Python\\Python311\\Lib\\site-packages\\torchvision\\models\\_utils.py:208: UserWarning: The parameter 'pretrained' is deprecated since 0.13 and may be removed in the future, please use 'weights' instead.\n",
      "  warnings.warn(\n",
      "c:\\Users\\FINAELB\\AppData\\Local\\Programs\\Python\\Python311\\Lib\\site-packages\\torchvision\\models\\_utils.py:223: UserWarning: Arguments other than a weight enum or `None` for 'weights' are deprecated since 0.13 and may be removed in the future. The current behavior is equivalent to passing `weights=VGG16_Weights.IMAGENET1K_V1`. You can also use `weights=VGG16_Weights.DEFAULT` to get the most up-to-date weights.\n",
      "  warnings.warn(msg)\n"
     ]
    }
   ],
   "source": [
    "## MODEL 3: VGG 16\n",
    "\n",
    "model_3 = models.vgg16(pretrained=True)\n",
    "layers=list(model_3._modules.keys())\n",
    "\n",
    "layers_frozen=layers[0:30]\n",
    "\n",
    "for layer in layers_frozen:\n",
    "    for param in model_3._modules[layer].parameters():\n",
    "        param.requires_grad=False\n",
    "\n",
    "# modify last layer to match it our classes\n",
    "n_inputs = model_3.classifier[6].in_features\n",
    "last_layer = nn.Linear(n_inputs, len(train_data.classes))\n",
    "model_3.classifier[6] = last_layer\n",
    "\n",
    "model_3 = model_3.to('cuda')"
   ]
  },
  {
   "cell_type": "code",
   "execution_count": 39,
   "metadata": {},
   "outputs": [
    {
     "name": "stderr",
     "output_type": "stream",
     "text": [
      "c:\\Users\\FINAELB\\AppData\\Local\\Programs\\Python\\Python311\\Lib\\site-packages\\torchvision\\models\\_utils.py:208: UserWarning: The parameter 'pretrained' is deprecated since 0.13 and may be removed in the future, please use 'weights' instead.\n",
      "  warnings.warn(\n",
      "c:\\Users\\FINAELB\\AppData\\Local\\Programs\\Python\\Python311\\Lib\\site-packages\\torchvision\\models\\_utils.py:223: UserWarning: Arguments other than a weight enum or `None` for 'weights' are deprecated since 0.13 and may be removed in the future. The current behavior is equivalent to passing `weights=AlexNet_Weights.IMAGENET1K_V1`. You can also use `weights=AlexNet_Weights.DEFAULT` to get the most up-to-date weights.\n",
      "  warnings.warn(msg)\n"
     ]
    }
   ],
   "source": [
    "# MODEL 4: AlexNet\n",
    "\n",
    "model_4 = models.alexnet(pretrained=True)\n",
    "layers=list(model_4._modules.keys())\n",
    "\n",
    "layers_frozen=layers[0:12]\n",
    "\n",
    "for layer in layers_frozen:\n",
    "    for param in model_4._modules[layer].parameters():\n",
    "        param.requires_grad=False\n",
    "\n",
    "# modify last layer to match it our classes\n",
    "n_inputs = model_4.classifier[6].in_features\n",
    "last_layer = nn.Linear(n_inputs, len(train_data.classes))\n",
    "model_4.classifier[6] = last_layer\n",
    "\n",
    "model_4 = model_4.to('cuda')"
   ]
  },
  {
   "cell_type": "code",
   "execution_count": 25,
   "metadata": {},
   "outputs": [],
   "source": [
    "# MODEL 5: GoogleNet\n",
    "\n",
    "model_5 = models.googlenet(pretrained=True)\n",
    "layers=list(model_5._modules.keys())\n",
    "\n",
    "layers_frozen=layers[0:16]\n",
    "\n",
    "for layer in layers_frozen:\n",
    "    for param in model_5._modules[layer].parameters():\n",
    "        param.requires_grad=False\n",
    "\n",
    "# modify last layer to match it our classes\n",
    "\n",
    "n_inputs = model_5.fc.in_features\n",
    "last_layer = nn.Linear(n_inputs, len(train_data.classes))\n",
    "model_5.fc = last_layer\n",
    "\n",
    "model_5 = model_5.to('cuda')"
   ]
  },
  {
   "cell_type": "code",
   "execution_count": 38,
   "metadata": {},
   "outputs": [],
   "source": [
    "# MODEL 6: Inception\n",
    "model_6 = models.inception_v3(pretrained=True)\n",
    "layers=list(model_6._modules.keys())\n",
    "\n",
    "layers_frozen=layers[0:19]\n",
    "\n",
    "for layer in layers_frozen:\n",
    "    for param in model_6._modules[layer].parameters():\n",
    "        param.requires_grad\n",
    "\n",
    "# modify last layer to match it our classes\n",
    "n_inputs = model_6.fc.in_features\n",
    "last_layer = nn.Linear(n_inputs, len(train_data.classes))\n",
    "model_6.fc = last_layer\n",
    "\n",
    "model_6 = model_6.to('cuda')"
   ]
  },
  {
   "cell_type": "markdown",
   "metadata": {},
   "source": [
    "### Training"
   ]
  },
  {
   "cell_type": "code",
   "execution_count": 59,
   "metadata": {},
   "outputs": [],
   "source": [
    "def rename_model_file(old_name, new_name, directory='models'):\n",
    "    # Construct full file paths\n",
    "    old_file_path = os.path.join(directory, old_name)\n",
    "    new_file_path = os.path.join(directory, new_name)\n",
    "    \n",
    "    # Check if the old file exists\n",
    "    if os.path.exists(old_file_path):\n",
    "        # Rename the file\n",
    "        os.rename(old_file_path, new_file_path)\n",
    "        print(f\"File renamed from {old_name} to {new_name}\")\n",
    "    else:\n",
    "        print(f\"File {old_name} does not exist in the directory {directory}\")"
   ]
  },
  {
   "cell_type": "code",
   "execution_count": 60,
   "metadata": {},
   "outputs": [
    {
     "name": "stdout",
     "output_type": "stream",
     "text": [
      "Epoch [1/25], Learning Rate: 0.000909\n",
      "Duration of training at epoch 1 is : 0:00:05.075020 seconds.\n",
      "Epoch: 1 \tTraining Loss: 0.090089 \tValidation Loss: 0.066050\n",
      "Validation loss has descreased (inf-->0.066050). Saving model...\n",
      "Epoch [2/25], Learning Rate: 0.000800\n",
      "Duration of training at epoch 2 is : 0:00:04.281344 seconds.\n",
      "Epoch: 2 \tTraining Loss: 0.086719 \tValidation Loss: 0.065087\n",
      "Validation loss has descreased (0.066050-->0.065087). Saving model...\n",
      "Epoch [3/25], Learning Rate: 0.000661\n",
      "Duration of training at epoch 3 is : 0:00:04.266618 seconds.\n",
      "Epoch: 3 \tTraining Loss: 0.065116 \tValidation Loss: 0.055699\n",
      "Validation loss has descreased (0.065087-->0.055699). Saving model...\n",
      "Epoch [4/25], Learning Rate: 0.000507\n",
      "Duration of training at epoch 4 is : 0:00:04.253103 seconds.\n",
      "Epoch: 4 \tTraining Loss: 0.060250 \tValidation Loss: 0.060367\n",
      "seed has been changed. The new torch seed is 40\n",
      "Epoch [5/25], Learning Rate: 0.000352\n",
      "Duration of training at epoch 5 is : 0:00:05.172459 seconds.\n",
      "Epoch: 5 \tTraining Loss: 0.054787 \tValidation Loss: 0.050589\n",
      "Validation loss has descreased (0.055699-->0.050589). Saving model...\n",
      "Epoch [6/25], Learning Rate: 0.000212\n",
      "Duration of training at epoch 6 is : 0:00:04.374387 seconds.\n",
      "Epoch: 6 \tTraining Loss: 0.050354 \tValidation Loss: 0.049058\n",
      "Validation loss has descreased (0.050589-->0.049058). Saving model...\n",
      "Epoch [7/25], Learning Rate: 0.000100\n",
      "Duration of training at epoch 7 is : 0:00:04.545562 seconds.\n",
      "Epoch: 7 \tTraining Loss: 0.054179 \tValidation Loss: 0.051645\n",
      "seed has been changed. The new torch seed is 70\n",
      "Epoch [8/25], Learning Rate: 0.000027\n",
      "Duration of training at epoch 8 is : 0:00:04.370976 seconds.\n",
      "Epoch: 8 \tTraining Loss: 0.044964 \tValidation Loss: 0.048914\n",
      "Validation loss has descreased (0.049058-->0.048914). Saving model...\n",
      "Epoch [9/25], Learning Rate: 0.000000\n",
      "Duration of training at epoch 9 is : 0:00:04.436714 seconds.\n",
      "Epoch: 9 \tTraining Loss: 0.048208 \tValidation Loss: 0.048151\n",
      "Validation loss has descreased (0.048914-->0.048151). Saving model...\n",
      "Epoch [10/25], Learning Rate: 0.000978\n",
      "Duration of training at epoch 10 is : 0:00:04.330672 seconds.\n",
      "Epoch: 10 \tTraining Loss: 0.050752 \tValidation Loss: 0.053546\n",
      "seed has been changed. The new torch seed is 100\n",
      "Epoch [11/25], Learning Rate: 0.000909\n",
      "Duration of training at epoch 11 is : 0:00:04.344023 seconds.\n",
      "Epoch: 11 \tTraining Loss: 0.058248 \tValidation Loss: 0.045147\n",
      "Validation loss has descreased (0.048151-->0.045147). Saving model...\n",
      "Epoch [12/25], Learning Rate: 0.000800\n",
      "Duration of training at epoch 12 is : 0:00:04.186434 seconds.\n",
      "Epoch: 12 \tTraining Loss: 0.047674 \tValidation Loss: 0.047120\n",
      "seed has been changed. The new torch seed is 120\n",
      "Epoch [13/25], Learning Rate: 0.000661\n",
      "Duration of training at epoch 13 is : 0:00:04.199608 seconds.\n",
      "Epoch: 13 \tTraining Loss: 0.045077 \tValidation Loss: 0.043494\n",
      "Validation loss has descreased (0.045147-->0.043494). Saving model...\n",
      "Epoch [14/25], Learning Rate: 0.000507\n",
      "Duration of training at epoch 14 is : 0:00:04.217324 seconds.\n",
      "Epoch: 14 \tTraining Loss: 0.044096 \tValidation Loss: 0.038800\n",
      "Validation loss has descreased (0.043494-->0.038800). Saving model...\n",
      "Epoch [15/25], Learning Rate: 0.000352\n",
      "Duration of training at epoch 15 is : 0:00:04.573349 seconds.\n",
      "Epoch: 15 \tTraining Loss: 0.038065 \tValidation Loss: 0.037050\n",
      "Validation loss has descreased (0.038800-->0.037050). Saving model...\n",
      "Epoch [16/25], Learning Rate: 0.000212\n",
      "Duration of training at epoch 16 is : 0:00:04.197315 seconds.\n",
      "Epoch: 16 \tTraining Loss: 0.031429 \tValidation Loss: 0.036140\n",
      "Validation loss has descreased (0.037050-->0.036140). Saving model...\n",
      "Epoch [17/25], Learning Rate: 0.000100\n",
      "Duration of training at epoch 17 is : 0:00:04.188073 seconds.\n",
      "Epoch: 17 \tTraining Loss: 0.038815 \tValidation Loss: 0.039024\n",
      "seed has been changed. The new torch seed is 170\n",
      "Epoch [18/25], Learning Rate: 0.000027\n",
      "Duration of training at epoch 18 is : 0:00:04.265387 seconds.\n",
      "Epoch: 18 \tTraining Loss: 0.042609 \tValidation Loss: 0.037378\n",
      "seed has been changed. The new torch seed is 180\n",
      "Epoch [19/25], Learning Rate: 0.000000\n",
      "Duration of training at epoch 19 is : 0:00:04.155149 seconds.\n",
      "Epoch: 19 \tTraining Loss: 0.035185 \tValidation Loss: 0.037818\n",
      "seed has been changed. The new torch seed is 190\n",
      "Epoch [20/25], Learning Rate: 0.000978\n",
      "Duration of training at epoch 20 is : 0:00:04.195753 seconds.\n",
      "Epoch: 20 \tTraining Loss: 0.039898 \tValidation Loss: 0.033193\n",
      "Validation loss has descreased (0.036140-->0.033193). Saving model...\n",
      "Epoch [21/25], Learning Rate: 0.000909\n",
      "Duration of training at epoch 21 is : 0:00:04.233639 seconds.\n",
      "Epoch: 21 \tTraining Loss: 0.037366 \tValidation Loss: 0.031957\n",
      "Validation loss has descreased (0.033193-->0.031957). Saving model...\n",
      "Epoch [22/25], Learning Rate: 0.000800\n",
      "Duration of training at epoch 22 is : 0:00:04.276113 seconds.\n",
      "Epoch: 22 \tTraining Loss: 0.033611 \tValidation Loss: 0.040894\n",
      "seed has been changed. The new torch seed is 220\n",
      "Epoch [23/25], Learning Rate: 0.000661\n",
      "Duration of training at epoch 23 is : 0:00:04.275046 seconds.\n",
      "Epoch: 23 \tTraining Loss: 0.040453 \tValidation Loss: 0.028969\n",
      "Validation loss has descreased (0.031957-->0.028969). Saving model...\n",
      "Epoch [24/25], Learning Rate: 0.000507\n",
      "Duration of training at epoch 24 is : 0:00:04.239244 seconds.\n",
      "Epoch: 24 \tTraining Loss: 0.027995 \tValidation Loss: 0.029695\n",
      "seed has been changed. The new torch seed is 240\n",
      "Epoch [25/25], Learning Rate: 0.000352\n",
      "Duration of training at epoch 25 is : 0:00:04.286946 seconds.\n",
      "Epoch: 25 \tTraining Loss: 0.033439 \tValidation Loss: 0.030627\n",
      "seed has been changed. The new torch seed is 250\n",
      "File renamed from model_v1.pth to model_1v1.pth\n"
     ]
    }
   ],
   "source": [
    "pipeline1 = PipelineTorch(model_1, config)\n",
    "pipeline1.train(train_data, valid_data, config['model_config']['version'])"
   ]
  },
  {
   "cell_type": "code",
   "execution_count": 55,
   "metadata": {},
   "outputs": [
    {
     "name": "stdout",
     "output_type": "stream",
     "text": [
      "File renamed from model_v1.pth to model1_v1.pth\n"
     ]
    }
   ],
   "source": [
    "# Example usage\n",
    "old_file_name = 'model_' + config['model_config']['version'] + '.pth'\n",
    "new_file_name = 'model1_' + config['model_config']['version'] + '.pth'\n",
    "rename_model_file(old_file_name, new_file_name)"
   ]
  },
  {
   "cell_type": "code",
   "execution_count": 57,
   "metadata": {},
   "outputs": [
    {
     "name": "stdout",
     "output_type": "stream",
     "text": [
      "Epoch [1/25], Learning Rate: 0.000909\n",
      "Duration of training at epoch 1 is : 0:00:04.568402 seconds.\n",
      "Epoch: 1 \tTraining Loss: 0.115180 \tValidation Loss: 0.128568\n",
      "Validation loss has descreased (inf-->0.128568). Saving model...\n",
      "Epoch [2/25], Learning Rate: 0.000800\n",
      "Duration of training at epoch 2 is : 0:00:04.311720 seconds.\n",
      "Epoch: 2 \tTraining Loss: 0.094763 \tValidation Loss: 0.122616\n",
      "Validation loss has descreased (0.128568-->0.122616). Saving model...\n",
      "Epoch [3/25], Learning Rate: 0.000661\n",
      "Duration of training at epoch 3 is : 0:00:04.360997 seconds.\n",
      "Epoch: 3 \tTraining Loss: 0.084205 \tValidation Loss: 0.107301\n",
      "Validation loss has descreased (0.122616-->0.107301). Saving model...\n",
      "Epoch [4/25], Learning Rate: 0.000507\n",
      "Duration of training at epoch 4 is : 0:00:04.345000 seconds.\n",
      "Epoch: 4 \tTraining Loss: 0.078588 \tValidation Loss: 0.107207\n",
      "Validation loss has descreased (0.107301-->0.107207). Saving model...\n",
      "Epoch [5/25], Learning Rate: 0.000352\n",
      "Duration of training at epoch 5 is : 0:00:04.368794 seconds.\n",
      "Epoch: 5 \tTraining Loss: 0.074988 \tValidation Loss: 0.122199\n",
      "seed has been changed. The new torch seed is 50\n",
      "Epoch [6/25], Learning Rate: 0.000212\n",
      "Duration of training at epoch 6 is : 0:00:04.555294 seconds.\n",
      "Epoch: 6 \tTraining Loss: 0.070856 \tValidation Loss: 0.111229\n",
      "seed has been changed. The new torch seed is 60\n",
      "Epoch [7/25], Learning Rate: 0.000100\n",
      "Duration of training at epoch 7 is : 0:00:04.281110 seconds.\n",
      "Epoch: 7 \tTraining Loss: 0.060792 \tValidation Loss: 0.108749\n",
      "seed has been changed. The new torch seed is 70\n",
      "Epoch [8/25], Learning Rate: 0.000027\n",
      "Duration of training at epoch 8 is : 0:00:04.346578 seconds.\n",
      "Epoch: 8 \tTraining Loss: 0.055970 \tValidation Loss: 0.103803\n",
      "Validation loss has descreased (0.107207-->0.103803). Saving model...\n",
      "Epoch [9/25], Learning Rate: 0.000000\n",
      "Duration of training at epoch 9 is : 0:00:04.379650 seconds.\n",
      "Epoch: 9 \tTraining Loss: 0.060374 \tValidation Loss: 0.105309\n",
      "seed has been changed. The new torch seed is 90\n",
      "Epoch [10/25], Learning Rate: 0.000978\n",
      "Duration of training at epoch 10 is : 0:00:04.366094 seconds.\n",
      "Epoch: 10 \tTraining Loss: 0.091947 \tValidation Loss: 0.239239\n",
      "seed has been changed. The new torch seed is 100\n",
      "Epoch [11/25], Learning Rate: 0.000909\n",
      "Duration of training at epoch 11 is : 0:00:04.449969 seconds.\n",
      "Epoch: 11 \tTraining Loss: 0.104776 \tValidation Loss: 0.101766\n",
      "Validation loss has descreased (0.103803-->0.101766). Saving model...\n",
      "Epoch [12/25], Learning Rate: 0.000800\n",
      "Duration of training at epoch 12 is : 0:00:04.353314 seconds.\n",
      "Epoch: 12 \tTraining Loss: 0.067161 \tValidation Loss: 0.093955\n",
      "Validation loss has descreased (0.101766-->0.093955). Saving model...\n",
      "Epoch [13/25], Learning Rate: 0.000661\n",
      "Duration of training at epoch 13 is : 0:00:04.487854 seconds.\n",
      "Epoch: 13 \tTraining Loss: 0.053537 \tValidation Loss: 0.093937\n",
      "Validation loss has descreased (0.093955-->0.093937). Saving model...\n",
      "Epoch [14/25], Learning Rate: 0.000507\n",
      "Duration of training at epoch 14 is : 0:00:04.408023 seconds.\n",
      "Epoch: 14 \tTraining Loss: 0.055332 \tValidation Loss: 0.093826\n",
      "Validation loss has descreased (0.093937-->0.093826). Saving model...\n",
      "Epoch [15/25], Learning Rate: 0.000352\n",
      "Duration of training at epoch 15 is : 0:00:04.401963 seconds.\n",
      "Epoch: 15 \tTraining Loss: 0.051785 \tValidation Loss: 0.093665\n",
      "Validation loss has descreased (0.093826-->0.093665). Saving model...\n",
      "Epoch [16/25], Learning Rate: 0.000212\n",
      "Duration of training at epoch 16 is : 0:00:04.471722 seconds.\n",
      "Epoch: 16 \tTraining Loss: 0.054798 \tValidation Loss: 0.103715\n",
      "seed has been changed. The new torch seed is 160\n",
      "Epoch [17/25], Learning Rate: 0.000100\n",
      "Duration of training at epoch 17 is : 0:00:04.451769 seconds.\n",
      "Epoch: 17 \tTraining Loss: 0.057287 \tValidation Loss: 0.102039\n",
      "seed has been changed. The new torch seed is 170\n",
      "Epoch [18/25], Learning Rate: 0.000027\n",
      "Duration of training at epoch 18 is : 0:00:04.551970 seconds.\n",
      "Epoch: 18 \tTraining Loss: 0.047540 \tValidation Loss: 0.094295\n",
      "seed has been changed. The new torch seed is 180\n",
      "Epoch [19/25], Learning Rate: 0.000000\n",
      "Duration of training at epoch 19 is : 0:00:04.461658 seconds.\n",
      "Epoch: 19 \tTraining Loss: 0.044209 \tValidation Loss: 0.092982\n",
      "Validation loss has descreased (0.093665-->0.092982). Saving model...\n",
      "Epoch [20/25], Learning Rate: 0.000978\n",
      "Duration of training at epoch 20 is : 0:00:04.478566 seconds.\n",
      "Epoch: 20 \tTraining Loss: 0.045928 \tValidation Loss: 0.112900\n",
      "seed has been changed. The new torch seed is 200\n",
      "Epoch [21/25], Learning Rate: 0.000909\n",
      "Duration of training at epoch 21 is : 0:00:04.447743 seconds.\n",
      "Epoch: 21 \tTraining Loss: 0.052996 \tValidation Loss: 0.111197\n",
      "seed has been changed. The new torch seed is 210\n",
      "Epoch [22/25], Learning Rate: 0.000800\n",
      "Duration of training at epoch 22 is : 0:00:04.435494 seconds.\n",
      "Epoch: 22 \tTraining Loss: 0.056092 \tValidation Loss: 0.118396\n",
      "seed has been changed. The new torch seed is 220\n",
      "Epoch [23/25], Learning Rate: 0.000661\n",
      "Duration of training at epoch 23 is : 0:00:04.527616 seconds.\n",
      "Epoch: 23 \tTraining Loss: 0.056881 \tValidation Loss: 0.102200\n",
      "seed has been changed. The new torch seed is 230\n",
      "Epoch [24/25], Learning Rate: 0.000507\n",
      "Duration of training at epoch 24 is : 0:00:04.459244 seconds.\n",
      "Epoch: 24 \tTraining Loss: 0.051233 \tValidation Loss: 0.083622\n",
      "Validation loss has descreased (0.092982-->0.083622). Saving model...\n",
      "Epoch [25/25], Learning Rate: 0.000352\n",
      "Duration of training at epoch 25 is : 0:00:04.618955 seconds.\n",
      "Epoch: 25 \tTraining Loss: 0.038400 \tValidation Loss: 0.099750\n",
      "seed has been changed. The new torch seed is 250\n"
     ]
    },
    {
     "data": {
      "text/plain": [
       "<pipeline_torch.PipelineTorch at 0x2dcbf5d9810>"
      ]
     },
     "execution_count": 57,
     "metadata": {},
     "output_type": "execute_result"
    }
   ],
   "source": [
    "pipeline2 = PipelineTorch(model_2, config)\n",
    "pipeline2.train(train_data, valid_data, config['model_config']['version'])"
   ]
  },
  {
   "cell_type": "code",
   "execution_count": 58,
   "metadata": {},
   "outputs": [
    {
     "name": "stdout",
     "output_type": "stream",
     "text": [
      "File renamed from model_v1.pth to model2_v1.pth\n"
     ]
    }
   ],
   "source": [
    "# Example usage\n",
    "old_file_name = 'model_' + config['model_config']['version'] + '.pth'\n",
    "new_file_name = 'model2_' + config['model_config']['version'] + '.pth'\n",
    "rename_model_file(old_file_name, new_file_name)"
   ]
  },
  {
   "cell_type": "code",
   "execution_count": 59,
   "metadata": {},
   "outputs": [
    {
     "name": "stdout",
     "output_type": "stream",
     "text": [
      "Epoch [1/25], Learning Rate: 0.000909\n",
      "Duration of training at epoch 1 is : 0:00:10.224354 seconds.\n",
      "Epoch: 1 \tTraining Loss: 0.186895 \tValidation Loss: 0.124466\n",
      "Validation loss has descreased (inf-->0.124466). Saving model...\n",
      "Epoch [2/25], Learning Rate: 0.000800\n",
      "Duration of training at epoch 2 is : 0:00:16.479202 seconds.\n",
      "Epoch: 2 \tTraining Loss: 0.183883 \tValidation Loss: 0.126677\n",
      "seed has been changed. The new torch seed is 20\n",
      "Epoch [3/25], Learning Rate: 0.000661\n",
      "Duration of training at epoch 3 is : 0:00:16.510850 seconds.\n",
      "Epoch: 3 \tTraining Loss: 0.140070 \tValidation Loss: 0.088208\n",
      "Validation loss has descreased (0.124466-->0.088208). Saving model...\n",
      "Epoch [4/25], Learning Rate: 0.000507\n",
      "Duration of training at epoch 4 is : 0:00:16.738884 seconds.\n",
      "Epoch: 4 \tTraining Loss: 0.140528 \tValidation Loss: 0.087358\n",
      "Validation loss has descreased (0.088208-->0.087358). Saving model...\n",
      "Epoch [5/25], Learning Rate: 0.000352\n",
      "Duration of training at epoch 5 is : 0:00:17.150605 seconds.\n",
      "Epoch: 5 \tTraining Loss: 0.151907 \tValidation Loss: 0.096052\n",
      "seed has been changed. The new torch seed is 50\n",
      "Epoch [6/25], Learning Rate: 0.000212\n",
      "Duration of training at epoch 6 is : 0:00:16.565008 seconds.\n",
      "Epoch: 6 \tTraining Loss: 0.152229 \tValidation Loss: 0.112451\n",
      "seed has been changed. The new torch seed is 60\n",
      "Epoch [7/25], Learning Rate: 0.000100\n",
      "Duration of training at epoch 7 is : 0:00:16.401230 seconds.\n",
      "Epoch: 7 \tTraining Loss: 0.177958 \tValidation Loss: 0.106383\n",
      "seed has been changed. The new torch seed is 70\n",
      "Epoch [8/25], Learning Rate: 0.000027\n",
      "Duration of training at epoch 8 is : 0:00:16.611420 seconds.\n",
      "Epoch: 8 \tTraining Loss: 0.133902 \tValidation Loss: 0.094778\n",
      "seed has been changed. The new torch seed is 80\n",
      "Epoch [9/25], Learning Rate: 0.000000\n",
      "Duration of training at epoch 9 is : 0:00:17.715725 seconds.\n",
      "Epoch: 9 \tTraining Loss: 0.166872 \tValidation Loss: 0.094014\n",
      "seed has been changed. The new torch seed is 90\n",
      "No improvement in training! Training stopped.\n",
      "Last improved epoch is #4\n"
     ]
    },
    {
     "data": {
      "text/plain": [
       "<pipeline_torch.PipelineTorch at 0x2de2468ced0>"
      ]
     },
     "execution_count": 59,
     "metadata": {},
     "output_type": "execute_result"
    }
   ],
   "source": [
    "pipeline3 = PipelineTorch(model_3, config)\n",
    "pipeline3.train(train_data, valid_data, config['model_config']['version'])"
   ]
  },
  {
   "cell_type": "code",
   "execution_count": 60,
   "metadata": {},
   "outputs": [
    {
     "name": "stdout",
     "output_type": "stream",
     "text": [
      "File renamed from model_v1.pth to model3_v1.pth\n"
     ]
    }
   ],
   "source": [
    "old_file_name = 'model_' + config['model_config']['version'] + '.pth'\n",
    "new_file_name = 'model3_' + config['model_config']['version'] + '.pth'\n",
    "rename_model_file(old_file_name, new_file_name)"
   ]
  },
  {
   "cell_type": "code",
   "execution_count": 61,
   "metadata": {},
   "outputs": [
    {
     "name": "stdout",
     "output_type": "stream",
     "text": [
      "Epoch [1/25], Learning Rate: 0.000909\n",
      "Duration of training at epoch 1 is : 0:00:04.957389 seconds.\n",
      "Epoch: 1 \tTraining Loss: 0.922505 \tValidation Loss: 0.472903\n",
      "Validation loss has descreased (inf-->0.472903). Saving model...\n",
      "Epoch [2/25], Learning Rate: 0.000800\n",
      "Duration of training at epoch 2 is : 0:00:05.957597 seconds.\n",
      "Epoch: 2 \tTraining Loss: 0.451330 \tValidation Loss: 0.371416\n",
      "Validation loss has descreased (0.472903-->0.371416). Saving model...\n",
      "Epoch [3/25], Learning Rate: 0.000661\n",
      "Duration of training at epoch 3 is : 0:00:04.579316 seconds.\n",
      "Epoch: 3 \tTraining Loss: 0.358429 \tValidation Loss: 0.252785\n",
      "Validation loss has descreased (0.371416-->0.252785). Saving model...\n",
      "Epoch [4/25], Learning Rate: 0.000507\n",
      "Duration of training at epoch 4 is : 0:00:04.958660 seconds.\n",
      "Epoch: 4 \tTraining Loss: 0.343535 \tValidation Loss: 0.224966\n",
      "Validation loss has descreased (0.252785-->0.224966). Saving model...\n",
      "Epoch [5/25], Learning Rate: 0.000352\n",
      "Duration of training at epoch 5 is : 0:00:04.389131 seconds.\n",
      "Epoch: 5 \tTraining Loss: 0.311374 \tValidation Loss: 0.207245\n",
      "Validation loss has descreased (0.224966-->0.207245). Saving model...\n",
      "Epoch [6/25], Learning Rate: 0.000212\n",
      "Duration of training at epoch 6 is : 0:00:06.795553 seconds.\n",
      "Epoch: 6 \tTraining Loss: 0.262752 \tValidation Loss: 0.201911\n",
      "Validation loss has descreased (0.207245-->0.201911). Saving model...\n",
      "Epoch [7/25], Learning Rate: 0.000100\n",
      "Duration of training at epoch 7 is : 0:00:05.737952 seconds.\n",
      "Epoch: 7 \tTraining Loss: 0.286357 \tValidation Loss: 0.182968\n",
      "Validation loss has descreased (0.201911-->0.182968). Saving model...\n",
      "Epoch [8/25], Learning Rate: 0.000027\n",
      "Duration of training at epoch 8 is : 0:00:04.909475 seconds.\n",
      "Epoch: 8 \tTraining Loss: 0.264931 \tValidation Loss: 0.187461\n",
      "seed has been changed. The new torch seed is 80\n",
      "Epoch [9/25], Learning Rate: 0.000000\n",
      "Duration of training at epoch 9 is : 0:00:05.657674 seconds.\n",
      "Epoch: 9 \tTraining Loss: 0.286762 \tValidation Loss: 0.189381\n",
      "seed has been changed. The new torch seed is 90\n",
      "Epoch [10/25], Learning Rate: 0.000978\n",
      "Duration of training at epoch 10 is : 0:00:05.373803 seconds.\n",
      "Epoch: 10 \tTraining Loss: 0.234928 \tValidation Loss: 0.188909\n",
      "seed has been changed. The new torch seed is 100\n",
      "Epoch [11/25], Learning Rate: 0.000909\n",
      "Duration of training at epoch 11 is : 0:00:05.039011 seconds.\n",
      "Epoch: 11 \tTraining Loss: 0.242677 \tValidation Loss: 0.165922\n",
      "Validation loss has descreased (0.182968-->0.165922). Saving model...\n",
      "Epoch [12/25], Learning Rate: 0.000800\n",
      "Duration of training at epoch 12 is : 0:00:04.752923 seconds.\n",
      "Epoch: 12 \tTraining Loss: 0.246477 \tValidation Loss: 0.163358\n",
      "Validation loss has descreased (0.165922-->0.163358). Saving model...\n",
      "Epoch [13/25], Learning Rate: 0.000661\n",
      "Duration of training at epoch 13 is : 0:00:04.166076 seconds.\n",
      "Epoch: 13 \tTraining Loss: 0.242680 \tValidation Loss: 0.125209\n",
      "Validation loss has descreased (0.163358-->0.125209). Saving model...\n",
      "Epoch [14/25], Learning Rate: 0.000507\n",
      "Duration of training at epoch 14 is : 0:00:04.144484 seconds.\n",
      "Epoch: 14 \tTraining Loss: 0.246620 \tValidation Loss: 0.114319\n",
      "Validation loss has descreased (0.125209-->0.114319). Saving model...\n",
      "Epoch [15/25], Learning Rate: 0.000352\n",
      "Duration of training at epoch 15 is : 0:00:04.248028 seconds.\n",
      "Epoch: 15 \tTraining Loss: 0.204950 \tValidation Loss: 0.114588\n",
      "seed has been changed. The new torch seed is 150\n",
      "Epoch [16/25], Learning Rate: 0.000212\n",
      "Duration of training at epoch 16 is : 0:00:04.212253 seconds.\n",
      "Epoch: 16 \tTraining Loss: 0.202911 \tValidation Loss: 0.120154\n",
      "seed has been changed. The new torch seed is 160\n",
      "Epoch [17/25], Learning Rate: 0.000100\n",
      "Duration of training at epoch 17 is : 0:00:04.271237 seconds.\n",
      "Epoch: 17 \tTraining Loss: 0.200455 \tValidation Loss: 0.107807\n",
      "Validation loss has descreased (0.114319-->0.107807). Saving model...\n",
      "Epoch [18/25], Learning Rate: 0.000027\n",
      "Duration of training at epoch 18 is : 0:00:04.248632 seconds.\n",
      "Epoch: 18 \tTraining Loss: 0.189365 \tValidation Loss: 0.103258\n",
      "Validation loss has descreased (0.107807-->0.103258). Saving model...\n",
      "Epoch [19/25], Learning Rate: 0.000000\n",
      "Duration of training at epoch 19 is : 0:00:04.212831 seconds.\n",
      "Epoch: 19 \tTraining Loss: 0.198499 \tValidation Loss: 0.103949\n",
      "seed has been changed. The new torch seed is 190\n",
      "Epoch [20/25], Learning Rate: 0.000978\n",
      "Duration of training at epoch 20 is : 0:00:04.270392 seconds.\n",
      "Epoch: 20 \tTraining Loss: 0.239769 \tValidation Loss: 0.104174\n",
      "seed has been changed. The new torch seed is 200\n",
      "Epoch [21/25], Learning Rate: 0.000909\n",
      "Duration of training at epoch 21 is : 0:00:04.242524 seconds.\n",
      "Epoch: 21 \tTraining Loss: 0.219790 \tValidation Loss: 0.103573\n",
      "seed has been changed. The new torch seed is 210\n",
      "Epoch [22/25], Learning Rate: 0.000800\n",
      "Duration of training at epoch 22 is : 0:00:04.169929 seconds.\n",
      "Epoch: 22 \tTraining Loss: 0.191409 \tValidation Loss: 0.137884\n",
      "seed has been changed. The new torch seed is 220\n",
      "Epoch [23/25], Learning Rate: 0.000661\n",
      "Duration of training at epoch 23 is : 0:00:04.301887 seconds.\n",
      "Epoch: 23 \tTraining Loss: 0.192209 \tValidation Loss: 0.109698\n",
      "seed has been changed. The new torch seed is 230\n",
      "No improvement in training! Training stopped.\n",
      "Last improved epoch is #18\n"
     ]
    },
    {
     "data": {
      "text/plain": [
       "<pipeline_torch.PipelineTorch at 0x2dd86755f10>"
      ]
     },
     "execution_count": 61,
     "metadata": {},
     "output_type": "execute_result"
    }
   ],
   "source": [
    "pipeline4 = PipelineTorch(model_4, config)\n",
    "pipeline4.train(train_data, valid_data, config['model_config']['version'])"
   ]
  },
  {
   "cell_type": "code",
   "execution_count": 62,
   "metadata": {},
   "outputs": [
    {
     "name": "stdout",
     "output_type": "stream",
     "text": [
      "File renamed from model_v1.pth to model4_v1.pth\n"
     ]
    }
   ],
   "source": [
    "old_file_name = 'model_' + config['model_config']['version'] + '.pth'\n",
    "new_file_name = 'model4_' + config['model_config']['version'] + '.pth'\n",
    "rename_model_file(old_file_name, new_file_name)"
   ]
  },
  {
   "cell_type": "code",
   "execution_count": 63,
   "metadata": {},
   "outputs": [
    {
     "name": "stdout",
     "output_type": "stream",
     "text": [
      "Epoch [1/25], Learning Rate: 0.000909\n",
      "Duration of training at epoch 1 is : 0:00:05.143527 seconds.\n",
      "Epoch: 1 \tTraining Loss: 1.137219 \tValidation Loss: 0.950582\n",
      "Validation loss has descreased (inf-->0.950582). Saving model...\n",
      "Epoch [2/25], Learning Rate: 0.000800\n",
      "Duration of training at epoch 2 is : 0:00:04.353127 seconds.\n",
      "Epoch: 2 \tTraining Loss: 0.786643 \tValidation Loss: 0.641497\n",
      "Validation loss has descreased (0.950582-->0.641497). Saving model...\n",
      "Epoch [3/25], Learning Rate: 0.000661\n",
      "Duration of training at epoch 3 is : 0:00:04.323425 seconds.\n",
      "Epoch: 3 \tTraining Loss: 0.618177 \tValidation Loss: 0.504361\n",
      "Validation loss has descreased (0.641497-->0.504361). Saving model...\n",
      "Epoch [4/25], Learning Rate: 0.000507\n",
      "Duration of training at epoch 4 is : 0:00:04.331063 seconds.\n",
      "Epoch: 4 \tTraining Loss: 0.502021 \tValidation Loss: 0.445196\n",
      "Validation loss has descreased (0.504361-->0.445196). Saving model...\n",
      "Epoch [5/25], Learning Rate: 0.000352\n",
      "Duration of training at epoch 5 is : 0:00:04.357590 seconds.\n",
      "Epoch: 5 \tTraining Loss: 0.462741 \tValidation Loss: 0.413057\n",
      "Validation loss has descreased (0.445196-->0.413057). Saving model...\n",
      "Epoch [6/25], Learning Rate: 0.000212\n",
      "Duration of training at epoch 6 is : 0:00:04.344139 seconds.\n",
      "Epoch: 6 \tTraining Loss: 0.439656 \tValidation Loss: 0.390746\n",
      "Validation loss has descreased (0.413057-->0.390746). Saving model...\n",
      "Epoch [7/25], Learning Rate: 0.000100\n",
      "Duration of training at epoch 7 is : 0:00:04.345303 seconds.\n",
      "Epoch: 7 \tTraining Loss: 0.403038 \tValidation Loss: 0.379511\n",
      "Validation loss has descreased (0.390746-->0.379511). Saving model...\n",
      "Epoch [8/25], Learning Rate: 0.000027\n",
      "Duration of training at epoch 8 is : 0:00:04.312778 seconds.\n",
      "Epoch: 8 \tTraining Loss: 0.403585 \tValidation Loss: 0.369467\n",
      "Validation loss has descreased (0.379511-->0.369467). Saving model...\n",
      "Epoch [9/25], Learning Rate: 0.000000\n",
      "Duration of training at epoch 9 is : 0:00:04.267537 seconds.\n",
      "Epoch: 9 \tTraining Loss: 0.391092 \tValidation Loss: 0.369742\n",
      "seed has been changed. The new torch seed is 90\n",
      "Epoch [10/25], Learning Rate: 0.000978\n",
      "Duration of training at epoch 10 is : 0:00:04.257483 seconds.\n",
      "Epoch: 10 \tTraining Loss: 0.386487 \tValidation Loss: 0.316345\n",
      "Validation loss has descreased (0.369467-->0.316345). Saving model...\n",
      "Epoch [11/25], Learning Rate: 0.000909\n",
      "Duration of training at epoch 11 is : 0:00:04.218972 seconds.\n",
      "Epoch: 11 \tTraining Loss: 0.314790 \tValidation Loss: 0.283683\n",
      "Validation loss has descreased (0.316345-->0.283683). Saving model...\n",
      "Epoch [12/25], Learning Rate: 0.000800\n",
      "Duration of training at epoch 12 is : 0:00:04.266988 seconds.\n",
      "Epoch: 12 \tTraining Loss: 0.286170 \tValidation Loss: 0.240911\n",
      "Validation loss has descreased (0.283683-->0.240911). Saving model...\n",
      "Epoch [13/25], Learning Rate: 0.000661\n",
      "Duration of training at epoch 13 is : 0:00:05.391156 seconds.\n",
      "Epoch: 13 \tTraining Loss: 0.265122 \tValidation Loss: 0.226562\n",
      "Validation loss has descreased (0.240911-->0.226562). Saving model...\n",
      "Epoch [14/25], Learning Rate: 0.000507\n",
      "Duration of training at epoch 14 is : 0:00:04.563717 seconds.\n",
      "Epoch: 14 \tTraining Loss: 0.240998 \tValidation Loss: 0.225721\n",
      "Validation loss has descreased (0.226562-->0.225721). Saving model...\n",
      "Epoch [15/25], Learning Rate: 0.000352\n",
      "Duration of training at epoch 15 is : 0:00:04.680044 seconds.\n",
      "Epoch: 15 \tTraining Loss: 0.224280 \tValidation Loss: 0.196696\n",
      "Validation loss has descreased (0.225721-->0.196696). Saving model...\n",
      "Epoch [16/25], Learning Rate: 0.000212\n",
      "Duration of training at epoch 16 is : 0:00:05.031839 seconds.\n",
      "Epoch: 16 \tTraining Loss: 0.221473 \tValidation Loss: 0.191576\n",
      "Validation loss has descreased (0.196696-->0.191576). Saving model...\n",
      "Epoch [17/25], Learning Rate: 0.000100\n",
      "Duration of training at epoch 17 is : 0:00:04.457463 seconds.\n",
      "Epoch: 17 \tTraining Loss: 0.218416 \tValidation Loss: 0.187120\n",
      "Validation loss has descreased (0.191576-->0.187120). Saving model...\n",
      "Epoch [18/25], Learning Rate: 0.000027\n",
      "Duration of training at epoch 18 is : 0:00:04.286235 seconds.\n",
      "Epoch: 18 \tTraining Loss: 0.210327 \tValidation Loss: 0.184326\n",
      "Validation loss has descreased (0.187120-->0.184326). Saving model...\n",
      "Epoch [19/25], Learning Rate: 0.000000\n",
      "Duration of training at epoch 19 is : 0:00:04.335844 seconds.\n",
      "Epoch: 19 \tTraining Loss: 0.210914 \tValidation Loss: 0.185941\n",
      "seed has been changed. The new torch seed is 190\n",
      "Epoch [20/25], Learning Rate: 0.000978\n",
      "Duration of training at epoch 20 is : 0:00:04.268695 seconds.\n",
      "Epoch: 20 \tTraining Loss: 0.203811 \tValidation Loss: 0.167800\n",
      "Validation loss has descreased (0.184326-->0.167800). Saving model...\n",
      "Epoch [21/25], Learning Rate: 0.000909\n",
      "Duration of training at epoch 21 is : 0:00:04.300202 seconds.\n",
      "Epoch: 21 \tTraining Loss: 0.192349 \tValidation Loss: 0.154640\n",
      "Validation loss has descreased (0.167800-->0.154640). Saving model...\n",
      "Epoch [22/25], Learning Rate: 0.000800\n",
      "Duration of training at epoch 22 is : 0:00:04.404835 seconds.\n",
      "Epoch: 22 \tTraining Loss: 0.172721 \tValidation Loss: 0.149113\n",
      "Validation loss has descreased (0.154640-->0.149113). Saving model...\n",
      "Epoch [23/25], Learning Rate: 0.000661\n",
      "Duration of training at epoch 23 is : 0:00:04.752518 seconds.\n",
      "Epoch: 23 \tTraining Loss: 0.181453 \tValidation Loss: 0.144714\n",
      "Validation loss has descreased (0.149113-->0.144714). Saving model...\n",
      "Epoch [24/25], Learning Rate: 0.000507\n",
      "Duration of training at epoch 24 is : 0:00:04.561051 seconds.\n",
      "Epoch: 24 \tTraining Loss: 0.148741 \tValidation Loss: 0.131911\n",
      "Validation loss has descreased (0.144714-->0.131911). Saving model...\n",
      "Epoch [25/25], Learning Rate: 0.000352\n",
      "Duration of training at epoch 25 is : 0:00:04.360143 seconds.\n",
      "Epoch: 25 \tTraining Loss: 0.137614 \tValidation Loss: 0.128075\n",
      "Validation loss has descreased (0.131911-->0.128075). Saving model...\n"
     ]
    },
    {
     "data": {
      "text/plain": [
       "<pipeline_torch.PipelineTorch at 0x2dd3589ddd0>"
      ]
     },
     "execution_count": 63,
     "metadata": {},
     "output_type": "execute_result"
    }
   ],
   "source": [
    "pipeline5 = PipelineTorch(model_5, config)\n",
    "pipeline5.train(train_data, valid_data, config['model_config']['version'])"
   ]
  },
  {
   "cell_type": "code",
   "execution_count": 66,
   "metadata": {},
   "outputs": [
    {
     "name": "stdout",
     "output_type": "stream",
     "text": [
      "File renamed from model_v1.pth to model5_v1.pth\n"
     ]
    }
   ],
   "source": [
    "old_file_name = 'model_' + config['model_config']['version'] + '.pth'\n",
    "new_file_name = 'model5_' + config['model_config']['version'] + '.pth'\n",
    "rename_model_file(old_file_name, new_file_name)"
   ]
  },
  {
   "cell_type": "markdown",
   "metadata": {},
   "source": [
    "### Post_Processing"
   ]
  },
  {
   "cell_type": "code",
   "execution_count": 98,
   "metadata": {},
   "outputs": [],
   "source": [
    "pipelines = [pipeline1, pipeline2, pipeline3, pipeline4, pipeline5]\n",
    "data_splits = {'train': train_data, 'validation': valid_data, 'test': test_data}\n",
    "\n",
    "results_acc_loss = {'train': [], 'validation': [], 'test': []}\n",
    "results_long = {'train': [], 'validation': [], 'test': []}"
   ]
  },
  {
   "cell_type": "code",
   "execution_count": 102,
   "metadata": {},
   "outputs": [],
   "source": [
    "for pipeline in pipelines:\n",
    "    for split_name, split_data in data_splits.items():\n",
    "        losses, average_loss, predictions, real_labels, acc = pipeline.predict(split_data)\n",
    "\n",
    "        # Store results\n",
    "        results_acc_loss[split_name].append({\n",
    "            'average_loss': average_loss,\n",
    "            'predictions': average_loss,\n",
    "            'accuracy': acc,\n",
    "        })\n",
    "\n",
    "        results_long[split_name].append({\n",
    "            'loss': losses,\n",
    "            'real_labels': real_labels,\n",
    "        })"
   ]
  },
  {
   "cell_type": "code",
   "execution_count": 100,
   "metadata": {},
   "outputs": [],
   "source": [
    "#print(classification_report(real_labels, predictions))\n",
    "#pprint(confusion_matrix(real_labels, predictions))"
   ]
  }
 ],
 "metadata": {
  "kernelspec": {
   "display_name": "Drive_Health_App",
   "language": "python",
   "name": "python3"
  },
  "language_info": {
   "codemirror_mode": {
    "name": "ipython",
    "version": 3
   },
   "file_extension": ".py",
   "mimetype": "text/x-python",
   "name": "python",
   "nbconvert_exporter": "python",
   "pygments_lexer": "ipython3",
   "version": "3.11.9"
  }
 },
 "nbformat": 4,
 "nbformat_minor": 2
}
